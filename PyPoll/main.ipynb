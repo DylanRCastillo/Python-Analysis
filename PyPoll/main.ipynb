{
 "cells": [
  {
   "cell_type": "code",
   "execution_count": 1,
   "metadata": {},
   "outputs": [],
   "source": [
    "import os, csv"
   ]
  },
  {
   "cell_type": "code",
   "execution_count": 2,
   "metadata": {},
   "outputs": [],
   "source": [
    "filepath=os.path.join(\"Resources\", \"election_data.csv\")"
   ]
  },
  {
   "cell_type": "code",
   "execution_count": 3,
   "metadata": {},
   "outputs": [],
   "source": [
    "#csv rows to lists\n",
    "vote_id_list = []\n",
    "county_list = []\n",
    "candidate_list = []"
   ]
  },
  {
   "cell_type": "code",
   "execution_count": 5,
   "metadata": {},
   "outputs": [],
   "source": [
    "with open(filepath, newline=\"\", encoding=\"utf-8\") as file:\n",
    "\n",
    "    csvreader = csv.reader(file)\n",
    "\n",
    "    header = next(csvreader)\n",
    "\n",
    "    #append data to each list\n",
    "    for row in csvreader:\n",
    "        vote_id_list.append(row[0])\n",
    "        county_list.append(row[1])\n",
    "        candidate_list.append(row[2])"
   ]
  },
  {
   "cell_type": "code",
   "execution_count": 13,
   "metadata": {},
   "outputs": [],
   "source": [
    "total_votes = len(vote_id_list)\n",
    "candidates = []"
   ]
  },
  {
   "cell_type": "code",
   "execution_count": 14,
   "metadata": {},
   "outputs": [
    {
     "name": "stdout",
     "output_type": "stream",
     "text": [
      "['Khan', 'Correy', 'Li', \"O'Tooley\"]\n"
     ]
    }
   ],
   "source": [
    "for candidate in candidate_list:\n",
    "    if candidate not in candidates:\n",
    "        candidates.append(candidate)\n",
    "print(candidates)"
   ]
  },
  {
   "cell_type": "code",
   "execution_count": 16,
   "metadata": {},
   "outputs": [],
   "source": [
    "#Get the count of votes for each candidate\n",
    "Khan = 0\n",
    "Correy = 0\n",
    "Li = 0\n",
    "Otooley = 0\n",
    "\n",
    "for candidate in candidate_list:\n",
    "    if candidate.lower() == 'khan':\n",
    "        Khan +=1\n",
    "    if candidate.lower() == \"correy\":\n",
    "        Correy +=1\n",
    "    if candidate.lower() == \"li\":\n",
    "        Li +=1\n",
    "    if candidate.lower() == \"o'tooley\":\n",
    "        Otooley +=1"
   ]
  },
  {
   "cell_type": "code",
   "execution_count": 17,
   "metadata": {},
   "outputs": [
    {
     "name": "stdout",
     "output_type": "stream",
     "text": [
      "2218231 704200 492940 105630\n"
     ]
    }
   ],
   "source": [
    "print(Khan, Correy, Li, Otooley)"
   ]
  },
  {
   "cell_type": "code",
   "execution_count": 31,
   "metadata": {},
   "outputs": [
    {
     "name": "stdout",
     "output_type": "stream",
     "text": [
      "Election Results\n",
      "-------------------------\n",
      "Total Votes: 3521001\n",
      "-------------------------\n",
      "Khan: 63.0% 2218231\n",
      "Correy: 20.0% 704200\n",
      "Li: 14.0% 492940\n",
      "O'Tooley: 3.0% 105630\n",
      "-------------------------\n",
      "Winner: Khan\n",
      "-------------------------\n"
     ]
    }
   ],
   "source": [
    "print(\"Election Results\")\n",
    "print(\"-------------------------\")\n",
    "print(f\"Total Votes: {len(candidate_list)}\")\n",
    "print(\"-------------------------\")\n",
    "print(f\"Khan: {round(Khan/len(candidate_list)*100,3)}% {Khan}\")\n",
    "print(f\"Correy: {round(Correy/len(candidate_list)*100,3)}% {Correy}\")\n",
    "print(f\"Li: {round(Li/len(candidate_list)*100,3)}% {Li}\")\n",
    "print(f\"O'Tooley: {round(Otooley/len(candidate_list)*100,3)}% {Otooley}\")\n",
    "print(\"-------------------------\")\n",
    "print(\"Winner: Khan\")\n",
    "print(\"-------------------------\")"
   ]
  },
  {
   "cell_type": "code",
   "execution_count": 33,
   "metadata": {},
   "outputs": [],
   "source": [
    "#Save to txt file\n",
    "filepath = os.path.join(\"Resources\",\"election_results_summary.txt\")\n",
    "\n",
    "with open(filepath, \"w\") as file:\n",
    "    file.write(\"Election Results\")\n",
    "    file.write(\"\\n\")\n",
    "    file.write(\"-------------------------\")\n",
    "    file.write(\"\\n\")\n",
    "    file.write(f\"Total Votes: {len(candidate_list)}\")\n",
    "    file.write(\"\\n\")\n",
    "    file.write(\"-------------------------\")\n",
    "    file.write(\"\\n\")\n",
    "    file.write(f\"Khan: {round(Khan/len(candidate_list)*100,3)}% {Khan}\")\n",
    "    file.write(\"\\n\")\n",
    "    file.write(f\"Correy: {round(Correy/len(candidate_list)*100,3)}% {Correy}\")\n",
    "    file.write(\"\\n\")\n",
    "    file.write(f\"Li: {round(Li/len(candidate_list)*100,3)}% {Li}\")\n",
    "    file.write(\"\\n\")\n",
    "    file.write(f\"O'Tooley: {round(Otooley/len(candidate_list)*100,3)}% {Otooley}\")\n",
    "    file.write(\"\\n\")\n",
    "    file.write(\"-------------------------\")\n",
    "    file.write(\"\\n\")\n",
    "    file.write(\"Winner: Khan\")\n",
    "    file.write(\"\\n\")\n",
    "    file.write(\"-------------------------\")\n"
   ]
  },
  {
   "cell_type": "code",
   "execution_count": null,
   "metadata": {},
   "outputs": [],
   "source": []
  }
 ],
 "metadata": {
  "interpreter": {
   "hash": "54d617d372647ec335822863022694f50128820a9b9ee7841e3eee76c2b8638a"
  },
  "kernelspec": {
   "display_name": "Python 3.6.10 64-bit ('Project8': conda)",
   "language": "python",
   "name": "python3"
  },
  "language_info": {
   "codemirror_mode": {
    "name": "ipython",
    "version": 3
   },
   "file_extension": ".py",
   "mimetype": "text/x-python",
   "name": "python",
   "nbconvert_exporter": "python",
   "pygments_lexer": "ipython3",
   "version": "3.6.10"
  },
  "orig_nbformat": 4
 },
 "nbformat": 4,
 "nbformat_minor": 2
}
