{
 "cells": [
  {
   "cell_type": "code",
   "execution_count": 12,
   "metadata": {},
   "outputs": [],
   "source": [
    "import os, csv"
   ]
  },
  {
   "cell_type": "code",
   "execution_count": 13,
   "metadata": {},
   "outputs": [],
   "source": [
    "filepath = os.path.join(\"Resources\",\"budget_data.csv\")"
   ]
  },
  {
   "cell_type": "code",
   "execution_count": 20,
   "metadata": {},
   "outputs": [],
   "source": [
    "total_months = []\n",
    "net_total = []\n",
    "monthly_change = []"
   ]
  },
  {
   "cell_type": "code",
   "execution_count": 21,
   "metadata": {},
   "outputs": [],
   "source": [
    "with open(filepath, newline=\"\", encoding='utf-8') as datafile:\n",
    "\n",
    "    csvreader = csv.reader(datafile, delimiter=\",\")\n",
    "\n",
    "    header = next(csvreader)\n",
    "\n",
    "    #Iterate through rows and save to lists\n",
    "    for row in csvreader:\n",
    "        total_months.append(row[0])\n",
    "        net_total.append(int(row[1]))\n",
    "\n",
    "    for i in range(len(net_total)-1):\n",
    "        monthly_change.append(net_total[i+1]-net_total[i])\n"
   ]
  },
  {
   "cell_type": "code",
   "execution_count": 22,
   "metadata": {},
   "outputs": [],
   "source": [
    "#Find maxes\n",
    "max_increase = max(monthly_change)\n",
    "max_decrease = min(monthly_change)"
   ]
  },
  {
   "cell_type": "code",
   "execution_count": 30,
   "metadata": {},
   "outputs": [],
   "source": [
    "#Month of max increase of profit and max decrease of profit\n",
    "max_increase_month = total_months[monthly_change.index(max_increase) + 1]\n",
    "max_decrease_month = total_months[monthly_change.index(max_decrease) + 1]"
   ]
  },
  {
   "cell_type": "code",
   "execution_count": 31,
   "metadata": {},
   "outputs": [
    {
     "name": "stdout",
     "output_type": "stream",
     "text": [
      "Financial Analysis\n",
      "----------------------------\n",
      "Total Months: 86\n",
      "Total: $38382578\n",
      "Average Change: -2315.12\n",
      "Greatest Increase in Profits: Feb-2012 ($1926159)\n",
      "Greatest Decrease in Profits: Sep-2013 ($-2196167)\n"
     ]
    }
   ],
   "source": [
    "#Print Statement\n",
    "print(\"Financial Analysis\")\n",
    "print(\"----------------------------\")\n",
    "print(f\"Total Months: {len(total_months)}\")\n",
    "print(f\"Total: ${sum(net_total)}\")\n",
    "print(f\"Average Change: {round(sum(monthly_change)/len(monthly_change),2)}\")\n",
    "print(f\"Greatest Increase in Profits: {max_increase_month} (${max_increase})\")\n",
    "print(f\"Greatest Decrease in Profits: {max_decrease_month} (${max_decrease})\")"
   ]
  },
  {
   "cell_type": "code",
   "execution_count": 32,
   "metadata": {},
   "outputs": [],
   "source": [
    "filepath = os.path.join(\"Resources\", \"financial_analysis_summary.txt\")\n",
    "\n",
    "with open(filepath, \"w\") as file:\n",
    "    file.write(\"Financial Analysis\")\n",
    "    file.write(\"\\n\")\n",
    "    file.write(\"----------------------------\")\n",
    "    file.write(\"\\n\")\n",
    "    file.write(f\"Total Months: {len(total_months)}\")\n",
    "    file.write(\"\\n\")\n",
    "    file.write(f\"Total: ${sum(net_total)}\")\n",
    "    file.write(\"\\n\")\n",
    "    file.write(f\"Average Change: {round(sum(monthly_change)/len(monthly_change),2)}\")\n",
    "    file.write(\"\\n\")\n",
    "    file.write(f\"Greatest Increase in Profits: {max_increase_month} (${max_increase})\")\n",
    "    file.write(\"\\n\")\n",
    "    file.write(f\"Greatest Decrease in Profits: {max_decrease_month} (${max_decrease})\")"
   ]
  },
  {
   "cell_type": "code",
   "execution_count": null,
   "metadata": {},
   "outputs": [],
   "source": []
  }
 ],
 "metadata": {
  "interpreter": {
   "hash": "54d617d372647ec335822863022694f50128820a9b9ee7841e3eee76c2b8638a"
  },
  "kernelspec": {
   "display_name": "Python 3.6.10 64-bit ('Project8': conda)",
   "language": "python",
   "name": "python3"
  },
  "language_info": {
   "codemirror_mode": {
    "name": "ipython",
    "version": 3
   },
   "file_extension": ".py",
   "mimetype": "text/x-python",
   "name": "python",
   "nbconvert_exporter": "python",
   "pygments_lexer": "ipython3",
   "version": "3.6.10"
  },
  "orig_nbformat": 4
 },
 "nbformat": 4,
 "nbformat_minor": 2
}
